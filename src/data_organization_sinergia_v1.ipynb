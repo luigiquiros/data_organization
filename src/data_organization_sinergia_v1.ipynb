{
 "cells": [
  {
   "cell_type": "code",
   "execution_count": 5,
   "metadata": {},
   "outputs": [],
   "source": [
    "import pandas as pd\n",
    "import shutil\n",
    "import os"
   ]
  },
  {
   "cell_type": "markdown",
   "metadata": {},
   "source": [
    "DEFINE THE FOLLOWING PARAMETERS"
   ]
  },
  {
   "cell_type": "code",
   "execution_count": 23,
   "metadata": {},
   "outputs": [],
   "source": [
    "# Define the user\n",
    "user = 'LuisQ'  # Options: PaolaH, OlivierK, ArnaudG, or LuisQ #same as the folder name in the NMR 600 folder\n",
    "\n",
    "# Do not change the following lines #\n",
    "repo_path = os.path.normpath(r'J:\\FASIE_LAB\\SINERGIA_PROJECT')  # Use raw string or double backslashes\n",
    "raw_data_path = os.path.join(repo_path, r'pure_compounds_data\\raw_data')  # Raw string for sub-paths\n",
    "output_path = os.path.join(repo_path, r'pure_compounds_data\\organized_data')  # Raw string for sub-paths\n",
    "data_path = os.path.join(raw_data_path, user)  # Define the path to the raw data\n",
    "ms_data_local = os.path.join(data_path, r'ms_data_local')  # Path to MS data extracts\n",
    "\n",
    "nmr_repo = os.path.join(r'J:\\COMMON FASIE-FATHO\\NMR 600', user )\n",
    "# Check if all paths exist\n",
    "for path in [repo_path, raw_data_path, output_path, data_path, ms_data_local]:\n",
    "    if not os.path.exists(path):\n",
    "        print(f\"Warning: The path {path} does not exist. Please verify.\")\n"
   ]
  },
  {
   "cell_type": "code",
   "execution_count": 24,
   "metadata": {},
   "outputs": [
    {
     "name": "stdout",
     "output_type": "stream",
     "text": [
      "Found TSV file: J:\\FASIE_LAB\\SINERGIA_PROJECT\\pure_compounds_data\\raw_data\\LuisQ\\LQ_compounds_metadata.tsv\n"
     ]
    }
   ],
   "source": [
    "## Automatically locate the TSV file\n",
    "tsv_file = None\n",
    "for file in os.listdir(data_path):\n",
    "    if file.endswith('.tsv'):  # Look for files with .tsv extension\n",
    "        tsv_file = os.path.join(data_path, file)\n",
    "        break\n",
    "\n",
    "if not tsv_file:\n",
    "    raise FileNotFoundError(f\"No TSV file found in the folder: {data_path}\")\n",
    "\n",
    "print(f\"Found TSV file: {tsv_file}\")"
   ]
  },
  {
   "cell_type": "code",
   "execution_count": 25,
   "metadata": {},
   "outputs": [
    {
     "name": "stdout",
     "output_type": "stream",
     "text": [
      "Warning: File J:\\FASIE_LAB\\SINERGIA_PROJECT\\pure_compounds_data\\raw_data\\LuisQ\\ms_data_local\\211026_LQ-01-61-74_pos.mzML does not exist and will be skipped.\n",
      "Warning: File J:\\FASIE_LAB\\SINERGIA_PROJECT\\pure_compounds_data\\raw_data\\LuisQ\\ms_data_local\\211026_LQ-01-61-74_pos.mzML does not exist and will be skipped.\n",
      "Warning: File J:\\FASIE_LAB\\SINERGIA_PROJECT\\pure_compounds_data\\raw_data\\LuisQ\\ms_data_local\\211026_LQ-01-61-74_pos.mzML does not exist and will be skipped.\n",
      "Warning: File J:\\FASIE_LAB\\SINERGIA_PROJECT\\pure_compounds_data\\raw_data\\LuisQ\\ms_data_local\\211026_LQ-01-61-74_pos.mzML does not exist and will be skipped.\n",
      "Warning: File J:\\FASIE_LAB\\SINERGIA_PROJECT\\pure_compounds_data\\raw_data\\LuisQ\\ms_data_local\\211026_LQ-01-61-74_pos.mzML does not exist and will be skipped.\n",
      "Warning: File J:\\FASIE_LAB\\SINERGIA_PROJECT\\pure_compounds_data\\raw_data\\LuisQ\\ms_data_local\\LQ-01-61-74_01_neg.mzML does not exist and will be skipped.\n",
      "Warning: File J:\\FASIE_LAB\\SINERGIA_PROJECT\\pure_compounds_data\\raw_data\\LuisQ\\ms_data_local\\LQ-01-61-74_01_neg.mzML does not exist and will be skipped.\n",
      "Warning: File J:\\FASIE_LAB\\SINERGIA_PROJECT\\pure_compounds_data\\raw_data\\LuisQ\\ms_data_local\\LQ-01-61-74_01_neg.mzML does not exist and will be skipped.\n",
      "Warning: File J:\\FASIE_LAB\\SINERGIA_PROJECT\\pure_compounds_data\\raw_data\\LuisQ\\ms_data_local\\LQ-01-61-74_01_neg.mzML does not exist and will be skipped.\n",
      "Warning: File J:\\FASIE_LAB\\SINERGIA_PROJECT\\pure_compounds_data\\raw_data\\LuisQ\\ms_data_local\\LQ-01-61-74_01_neg.mzML does not exist and will be skipped.\n"
     ]
    },
    {
     "ename": "KeyboardInterrupt",
     "evalue": "",
     "output_type": "error",
     "traceback": [
      "\u001b[1;31m---------------------------------------------------------------------------\u001b[0m",
      "\u001b[1;31mKeyboardInterrupt\u001b[0m                         Traceback (most recent call last)",
      "Cell \u001b[1;32mIn[25], line 65\u001b[0m\n\u001b[0;32m     63\u001b[0m nmr_destination_folder \u001b[38;5;241m=\u001b[39m os\u001b[38;5;241m.\u001b[39mpath\u001b[38;5;241m.\u001b[39mjoin(nmr_data_folder, compound_id_nmr)\n\u001b[0;32m     64\u001b[0m \u001b[38;5;28;01mif\u001b[39;00m os\u001b[38;5;241m.\u001b[39mpath\u001b[38;5;241m.\u001b[39mexists(nmr_source_folder):\n\u001b[1;32m---> 65\u001b[0m     shutil\u001b[38;5;241m.\u001b[39mcopytree(nmr_source_folder, nmr_destination_folder)\n\u001b[0;32m     66\u001b[0m \u001b[38;5;28;01melse\u001b[39;00m:\n\u001b[0;32m     67\u001b[0m     \u001b[38;5;28mprint\u001b[39m(\u001b[38;5;124mf\u001b[39m\u001b[38;5;124m\"\u001b[39m\u001b[38;5;124mWarning: Folder \u001b[39m\u001b[38;5;132;01m{\u001b[39;00mnmr_source_folder\u001b[38;5;132;01m}\u001b[39;00m\u001b[38;5;124m does not exist and will be skipped.\u001b[39m\u001b[38;5;124m\"\u001b[39m)\n",
      "File \u001b[1;32mc:\\ProgramData\\anaconda3\\Lib\\shutil.py:561\u001b[0m, in \u001b[0;36mcopytree\u001b[1;34m(src, dst, symlinks, ignore, copy_function, ignore_dangling_symlinks, dirs_exist_ok)\u001b[0m\n\u001b[0;32m    559\u001b[0m \u001b[38;5;28;01mwith\u001b[39;00m os\u001b[38;5;241m.\u001b[39mscandir(src) \u001b[38;5;28;01mas\u001b[39;00m itr:\n\u001b[0;32m    560\u001b[0m     entries \u001b[38;5;241m=\u001b[39m \u001b[38;5;28mlist\u001b[39m(itr)\n\u001b[1;32m--> 561\u001b[0m \u001b[38;5;28;01mreturn\u001b[39;00m _copytree(entries\u001b[38;5;241m=\u001b[39mentries, src\u001b[38;5;241m=\u001b[39msrc, dst\u001b[38;5;241m=\u001b[39mdst, symlinks\u001b[38;5;241m=\u001b[39msymlinks,\n\u001b[0;32m    562\u001b[0m                  ignore\u001b[38;5;241m=\u001b[39mignore, copy_function\u001b[38;5;241m=\u001b[39mcopy_function,\n\u001b[0;32m    563\u001b[0m                  ignore_dangling_symlinks\u001b[38;5;241m=\u001b[39mignore_dangling_symlinks,\n\u001b[0;32m    564\u001b[0m                  dirs_exist_ok\u001b[38;5;241m=\u001b[39mdirs_exist_ok)\n",
      "File \u001b[1;32mc:\\ProgramData\\anaconda3\\Lib\\shutil.py:497\u001b[0m, in \u001b[0;36m_copytree\u001b[1;34m(entries, src, dst, symlinks, ignore, copy_function, ignore_dangling_symlinks, dirs_exist_ok)\u001b[0m\n\u001b[0;32m    495\u001b[0m             copy_function(srcobj, dstname)\n\u001b[0;32m    496\u001b[0m \u001b[38;5;28;01melif\u001b[39;00m srcentry\u001b[38;5;241m.\u001b[39mis_dir():\n\u001b[1;32m--> 497\u001b[0m     copytree(srcobj, dstname, symlinks, ignore, copy_function,\n\u001b[0;32m    498\u001b[0m              ignore_dangling_symlinks, dirs_exist_ok)\n\u001b[0;32m    499\u001b[0m \u001b[38;5;28;01melse\u001b[39;00m:\n\u001b[0;32m    500\u001b[0m     \u001b[38;5;66;03m# Will raise a SpecialFileError for unsupported file types\u001b[39;00m\n\u001b[0;32m    501\u001b[0m     copy_function(srcobj, dstname)\n",
      "File \u001b[1;32mc:\\ProgramData\\anaconda3\\Lib\\shutil.py:561\u001b[0m, in \u001b[0;36mcopytree\u001b[1;34m(src, dst, symlinks, ignore, copy_function, ignore_dangling_symlinks, dirs_exist_ok)\u001b[0m\n\u001b[0;32m    559\u001b[0m \u001b[38;5;28;01mwith\u001b[39;00m os\u001b[38;5;241m.\u001b[39mscandir(src) \u001b[38;5;28;01mas\u001b[39;00m itr:\n\u001b[0;32m    560\u001b[0m     entries \u001b[38;5;241m=\u001b[39m \u001b[38;5;28mlist\u001b[39m(itr)\n\u001b[1;32m--> 561\u001b[0m \u001b[38;5;28;01mreturn\u001b[39;00m _copytree(entries\u001b[38;5;241m=\u001b[39mentries, src\u001b[38;5;241m=\u001b[39msrc, dst\u001b[38;5;241m=\u001b[39mdst, symlinks\u001b[38;5;241m=\u001b[39msymlinks,\n\u001b[0;32m    562\u001b[0m                  ignore\u001b[38;5;241m=\u001b[39mignore, copy_function\u001b[38;5;241m=\u001b[39mcopy_function,\n\u001b[0;32m    563\u001b[0m                  ignore_dangling_symlinks\u001b[38;5;241m=\u001b[39mignore_dangling_symlinks,\n\u001b[0;32m    564\u001b[0m                  dirs_exist_ok\u001b[38;5;241m=\u001b[39mdirs_exist_ok)\n",
      "File \u001b[1;32mc:\\ProgramData\\anaconda3\\Lib\\shutil.py:501\u001b[0m, in \u001b[0;36m_copytree\u001b[1;34m(entries, src, dst, symlinks, ignore, copy_function, ignore_dangling_symlinks, dirs_exist_ok)\u001b[0m\n\u001b[0;32m    497\u001b[0m         copytree(srcobj, dstname, symlinks, ignore, copy_function,\n\u001b[0;32m    498\u001b[0m                  ignore_dangling_symlinks, dirs_exist_ok)\n\u001b[0;32m    499\u001b[0m     \u001b[38;5;28;01melse\u001b[39;00m:\n\u001b[0;32m    500\u001b[0m         \u001b[38;5;66;03m# Will raise a SpecialFileError for unsupported file types\u001b[39;00m\n\u001b[1;32m--> 501\u001b[0m         copy_function(srcobj, dstname)\n\u001b[0;32m    502\u001b[0m \u001b[38;5;66;03m# catch the Error from the recursive copytree so that we can\u001b[39;00m\n\u001b[0;32m    503\u001b[0m \u001b[38;5;66;03m# continue with other files\u001b[39;00m\n\u001b[0;32m    504\u001b[0m \u001b[38;5;28;01mexcept\u001b[39;00m Error \u001b[38;5;28;01mas\u001b[39;00m err:\n",
      "File \u001b[1;32mc:\\ProgramData\\anaconda3\\Lib\\shutil.py:437\u001b[0m, in \u001b[0;36mcopy2\u001b[1;34m(src, dst, follow_symlinks)\u001b[0m\n\u001b[0;32m    435\u001b[0m     dst \u001b[38;5;241m=\u001b[39m os\u001b[38;5;241m.\u001b[39mpath\u001b[38;5;241m.\u001b[39mjoin(dst, os\u001b[38;5;241m.\u001b[39mpath\u001b[38;5;241m.\u001b[39mbasename(src))\n\u001b[0;32m    436\u001b[0m copyfile(src, dst, follow_symlinks\u001b[38;5;241m=\u001b[39mfollow_symlinks)\n\u001b[1;32m--> 437\u001b[0m copystat(src, dst, follow_symlinks\u001b[38;5;241m=\u001b[39mfollow_symlinks)\n\u001b[0;32m    438\u001b[0m \u001b[38;5;28;01mreturn\u001b[39;00m dst\n",
      "File \u001b[1;32mc:\\ProgramData\\anaconda3\\Lib\\shutil.py:376\u001b[0m, in \u001b[0;36mcopystat\u001b[1;34m(src, dst, follow_symlinks)\u001b[0m\n\u001b[0;32m    374\u001b[0m     st \u001b[38;5;241m=\u001b[39m lookup(\u001b[38;5;124m\"\u001b[39m\u001b[38;5;124mstat\u001b[39m\u001b[38;5;124m\"\u001b[39m)(src, follow_symlinks\u001b[38;5;241m=\u001b[39mfollow)\n\u001b[0;32m    375\u001b[0m mode \u001b[38;5;241m=\u001b[39m stat\u001b[38;5;241m.\u001b[39mS_IMODE(st\u001b[38;5;241m.\u001b[39mst_mode)\n\u001b[1;32m--> 376\u001b[0m lookup(\u001b[38;5;124m\"\u001b[39m\u001b[38;5;124mutime\u001b[39m\u001b[38;5;124m\"\u001b[39m)(dst, ns\u001b[38;5;241m=\u001b[39m(st\u001b[38;5;241m.\u001b[39mst_atime_ns, st\u001b[38;5;241m.\u001b[39mst_mtime_ns),\n\u001b[0;32m    377\u001b[0m     follow_symlinks\u001b[38;5;241m=\u001b[39mfollow)\n\u001b[0;32m    378\u001b[0m \u001b[38;5;66;03m# We must copy extended attributes before the file is (potentially)\u001b[39;00m\n\u001b[0;32m    379\u001b[0m \u001b[38;5;66;03m# chmod()'ed read-only, otherwise setxattr() will error with -EACCES.\u001b[39;00m\n\u001b[0;32m    380\u001b[0m _copyxattr(src, dst, follow_symlinks\u001b[38;5;241m=\u001b[39mfollow)\n",
      "\u001b[1;31mKeyboardInterrupt\u001b[0m: "
     ]
    }
   ],
   "source": [
    "# Load the TSV file\n",
    "data = pd.read_csv(tsv_file, sep='\\t')\n",
    "\n",
    "# Create the output directory if it doesn't exist\n",
    "os.makedirs(output_path, exist_ok=True)\n",
    "\n",
    "# Iterate over unique 'pf_code' values\n",
    "for pf_code, group in data.groupby('pf_code'):\n",
    "    # Create the root folder for the pf_code\n",
    "    pf_folder = os.path.join(output_path, pf_code)\n",
    "    os.makedirs(pf_folder, exist_ok=True)\n",
    "    \n",
    "    # Create the 'pf_code_metadata.tsv' file inside the folder\n",
    "    metadata_file = os.path.join(pf_folder, f\"{pf_code}_metadata.tsv\")\n",
    "    group.to_csv(metadata_file, sep='\\t', index=False)\n",
    "    \n",
    "    # Create the 'ms_extracts_data' folder\n",
    "    ms_folder = os.path.join(pf_folder, 'ms_extracts_data')\n",
    "    os.makedirs(ms_folder, exist_ok=True)\n",
    "    \n",
    "    # Copy the files from 'ms_filename_extract_pos' and 'ms_filename_extract_neg' columns\n",
    "    for ms_file_column in ['ms_filename_extract_pos', 'ms_filename_extract_neg']:\n",
    "        for ms_file in group[ms_file_column].dropna():\n",
    "            source_path = os.path.join(ms_data_local, ms_file)\n",
    "            destination_path = os.path.join(ms_folder, ms_file)\n",
    "            if os.path.exists(source_path):\n",
    "                shutil.copy(source_path, destination_path)\n",
    "            else:\n",
    "                print(f\"Warning: File {source_path} does not exist and will be skipped.\")\n",
    "    \n",
    "    # Create the 'compounds' folder\n",
    "    compounds_folder = os.path.join(pf_folder, 'compounds')\n",
    "    os.makedirs(compounds_folder, exist_ok=True)\n",
    "    \n",
    "    # Create a folder for each 'compound_labsample'\n",
    "    for compound_labsample, compound_row in group.iterrows():\n",
    "        compound_folder = os.path.join(compounds_folder, str(compound_row['compound_labsample']))\n",
    "        os.makedirs(compound_folder, exist_ok=True)\n",
    "        \n",
    "        # Create the 'ms_data_compound' folder\n",
    "        ms_data_compound_folder = os.path.join(compound_folder, 'ms_data_compound')\n",
    "        os.makedirs(ms_data_compound_folder, exist_ok=True)\n",
    "        \n",
    "        # Copy files for the compound from specified columns\n",
    "        for ms_compound_column in ['ms_filename_compound_pos', 'ms_filename_compound_neg', 'ms_filename_compound_dual']:\n",
    "            ms_compound_file = compound_row[ms_compound_column]\n",
    "            if pd.notna(ms_compound_file):\n",
    "                source_path = os.path.join(ms_data_local, ms_compound_file)\n",
    "                destination_path = os.path.join(ms_data_compound_folder, ms_compound_file)\n",
    "                if os.path.exists(source_path):\n",
    "                    shutil.copy(source_path, destination_path)\n",
    "                else:\n",
    "                    print(f\"Warning: File {source_path} does not exist and will be skipped.\")\n",
    "        \n",
    "        # Create the 'NMR data' folder\n",
    "        nmr_data_folder = os.path.join(compound_folder, 'NMR data')\n",
    "        os.makedirs(nmr_data_folder, exist_ok=True)\n",
    "        \n",
    "        # Copy the folder for the compound_id_NMR\n",
    "        compound_id_nmr = compound_row['compound_id_NMR']\n",
    "        if pd.notna(compound_id_nmr):\n",
    "            nmr_source_folder = os.path.join(nmr_repo, compound_id_nmr)\n",
    "            nmr_destination_folder = os.path.join(nmr_data_folder, compound_id_nmr)\n",
    "            if os.path.exists(nmr_source_folder):\n",
    "                shutil.copytree(nmr_source_folder, nmr_destination_folder)\n",
    "            else:\n",
    "                print(f\"Warning: Folder {nmr_source_folder} does not exist and will be skipped.\")\n",
    "\n",
    "print(f\"Folders and files have been successfully created in '{output_path}'.\")"
   ]
  }
 ],
 "metadata": {
  "kernelspec": {
   "display_name": "base",
   "language": "python",
   "name": "python3"
  },
  "language_info": {
   "codemirror_mode": {
    "name": "ipython",
    "version": 3
   },
   "file_extension": ".py",
   "mimetype": "text/x-python",
   "name": "python",
   "nbconvert_exporter": "python",
   "pygments_lexer": "ipython3",
   "version": "3.11.7"
  },
  "orig_nbformat": 4
 },
 "nbformat": 4,
 "nbformat_minor": 2
}
